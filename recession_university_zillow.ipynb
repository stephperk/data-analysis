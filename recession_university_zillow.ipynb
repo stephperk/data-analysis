{
 "cells": [
  {
   "cell_type": "markdown",
   "metadata": {},
   "source": [
    "## Housing Prices during the Great Recession in University and Non-University Towns\n",
    "\n",
    "**Definitions**:\n",
    "* A _quarter_ is a specific three month period, Q1 is January through March, Q2 is April through June, Q3 is July through September, Q4 is October through December.\n",
    "* A _recession_ is defined as starting with two consecutive quarters of GDP decline, and ending with two consecutive quarters of GDP growth.\n",
    "* A _recession bottom_ is the quarter within a recession which had the lowest GDP.\n",
    "* A _university town_ is a city which has a high percentage of university students compared to the total population of the city.\n",
    "* _Chained GDP_ is adjusted to inflation, allowing us to compare accross time. \n",
    "\n",
    "\n",
    "**Hypothesis**: University towns have their mean housing prices less effected by recessions. I will run a t-test to compare the ratio of the mean price of houses in university towns the quarter before the recession starts compared to the recession bottom. (`price_ratio=quarter_before_recession/recession_bottom`)\n",
    "\n",
    "The three data source I will use for this analysis are:\n",
    "\n",
    "* From the [Zillow research data site](http://www.zillow.com/research/data/) there is housing data for the United States. In particular the datafile for [all homes at a city level](http://files.zillowstatic.com/research/public/City/City_Zhvi_AllHomes.csv), ```City_Zhvi_AllHomes.csv```, has median home sale prices at a fine grained level.\n",
    "* From the Wikipedia page on college towns is a list of [university towns in the United States](https://en.wikipedia.org/wiki/List_of_college_towns#College_towns_in_the_United_States) which has been copy and pasted into the file ```university_towns.txt```.\n",
    "* From Bureau of Economic Analysis, US Department of Commerce, the [GDP over time](http://www.bea.gov/national/index.htm#gdp) of the United States in current dollars (using the chained value in 2009 dollars), in quarterly intervals, in the file ```gdplev.xls```. I am only looking at GDP data from the first quarter of 2000 onward.\n",
    "\n",
    "\n",
    "_This exercise is adapted from University of Michigan's Introduction to Data Science in Python_.\n"
   ]
  },
  {
   "cell_type": "code",
   "execution_count": 2,
   "metadata": {
    "collapsed": true
   },
   "outputs": [],
   "source": [
    "%matplotlib inline\n",
    "\n",
    "import pandas as pd\n",
    "import numpy as np\n",
    "from scipy.stats import ttest_ind\n",
    "import matplotlib.pyplot as plt\n",
    "import seaborn as sns"
   ]
  },
  {
   "cell_type": "markdown",
   "metadata": {},
   "source": [
    "### I. Loading Data and Cleaning DataFrames"
   ]
  },
  {
   "cell_type": "code",
   "execution_count": 3,
   "metadata": {
    "collapsed": true
   },
   "outputs": [],
   "source": [
    "# dictionary of states and their acronyms\n",
    "states = {'OH': 'Ohio', 'KY': 'Kentucky', 'AS': 'American Samoa', 'NV': 'Nevada', 'WY': 'Wyoming', 'NA': 'National', 'AL': 'Alabama', 'MD': 'Maryland', 'AK': 'Alaska', 'UT': 'Utah', 'OR': 'Oregon', 'MT': 'Montana', 'IL': 'Illinois', 'TN': 'Tennessee', 'DC': 'District of Columbia', 'VT': 'Vermont', 'ID': 'Idaho', 'AR': 'Arkansas', 'ME': 'Maine', 'WA': 'Washington', 'HI': 'Hawaii', 'WI': 'Wisconsin', 'MI': 'Michigan', 'IN': 'Indiana', 'NJ': 'New Jersey', 'AZ': 'Arizona', 'GU': 'Guam', 'MS': 'Mississippi', 'PR': 'Puerto Rico', 'NC': 'North Carolina', 'TX': 'Texas', 'SD': 'South Dakota', 'MP': 'Northern Mariana Islands', 'IA': 'Iowa', 'MO': 'Missouri', 'CT': 'Connecticut', 'WV': 'West Virginia', 'SC': 'South Carolina', 'LA': 'Louisiana', 'KS': 'Kansas', 'NY': 'New York', 'NE': 'Nebraska', 'OK': 'Oklahoma', 'FL': 'Florida', 'CA': 'California', 'CO': 'Colorado', 'PA': 'Pennsylvania', 'DE': 'Delaware', 'NM': 'New Mexico', 'RI': 'Rhode Island', 'MN': 'Minnesota', 'VI': 'Virgin Islands', 'NH': 'New Hampshire', 'MA': 'Massachusetts', 'GA': 'Georgia', 'ND': 'North Dakota', 'VA': 'Virginia'}"
   ]
  },
  {
   "cell_type": "code",
   "execution_count": 4,
   "metadata": {
    "collapsed": false,
    "scrolled": true
   },
   "outputs": [],
   "source": [
    "# load university towns list, GDP data, and Zillow housing data\n",
    "univ_towns = pd.read_table('data/university_towns.txt', header=None, comment='(')\n",
    "GDP_df = pd.read_excel('data/gdplev.xls',names=['Q','GDP'], parse_cols='E,G', skiprows=219)\n",
    "housing_df = pd.read_csv('data/City_Zhvi_AllHomes.csv')\n",
    "\n",
    "# rename column\n",
    "univ_towns.columns = ['State']\n",
    "\n",
    "# make a duplicate column and clean RegionName\n",
    "univ_towns['RegionName'] = univ_towns.State\n",
    "univ_towns['RegionName'] = univ_towns['RegionName'].str.rstrip()\n",
    "\n",
    "# filter out values in State column that are not states\n",
    "univ_towns['State'] = univ_towns['State'].where(univ_towns['State'].str.contains('\\[edit\\]'))\n",
    "\n",
    "# fill out the rest of our State column and clean them up\n",
    "univ_towns['State'].ffill(inplace=True)\n",
    "clean_states = univ_towns['State'].str.replace('\\[edit\\]', '')\n",
    "univ_towns['State'] = clean_states\n",
    "\n",
    "# make a new clean DataFrame with State and RegionName\n",
    "towns_df = univ_towns[~univ_towns.RegionName.str.contains('\\[edit\\]')]\n",
    "\n",
    "# clean our Zillow housing data by swapping state abbreviation with full name\n",
    "housing_df.State.replace(to_replace=states, inplace=True)\n",
    "housing_df.set_index(['RegionName', 'State'], inplace=True)"
   ]
  },
  {
   "cell_type": "code",
   "execution_count": 5,
   "metadata": {
    "collapsed": false
   },
   "outputs": [
    {
     "data": {
      "text/html": [
       "<div>\n",
       "<table border=\"1\" class=\"dataframe\">\n",
       "  <thead>\n",
       "    <tr style=\"text-align: right;\">\n",
       "      <th></th>\n",
       "      <th>State</th>\n",
       "      <th>RegionName</th>\n",
       "    </tr>\n",
       "  </thead>\n",
       "  <tbody>\n",
       "    <tr>\n",
       "      <th>1</th>\n",
       "      <td>Alabama</td>\n",
       "      <td>Auburn</td>\n",
       "    </tr>\n",
       "    <tr>\n",
       "      <th>2</th>\n",
       "      <td>Alabama</td>\n",
       "      <td>Florence</td>\n",
       "    </tr>\n",
       "    <tr>\n",
       "      <th>3</th>\n",
       "      <td>Alabama</td>\n",
       "      <td>Jacksonville</td>\n",
       "    </tr>\n",
       "    <tr>\n",
       "      <th>4</th>\n",
       "      <td>Alabama</td>\n",
       "      <td>Livingston</td>\n",
       "    </tr>\n",
       "    <tr>\n",
       "      <th>5</th>\n",
       "      <td>Alabama</td>\n",
       "      <td>Montevallo</td>\n",
       "    </tr>\n",
       "  </tbody>\n",
       "</table>\n",
       "</div>"
      ],
      "text/plain": [
       "     State    RegionName\n",
       "1  Alabama        Auburn\n",
       "2  Alabama      Florence\n",
       "3  Alabama  Jacksonville\n",
       "4  Alabama    Livingston\n",
       "5  Alabama    Montevallo"
      ]
     },
     "execution_count": 5,
     "metadata": {},
     "output_type": "execute_result"
    }
   ],
   "source": [
    "towns_df.head() # our DataFrame of university towns"
   ]
  },
  {
   "cell_type": "code",
   "execution_count": 6,
   "metadata": {
    "collapsed": false,
    "scrolled": true
   },
   "outputs": [
    {
     "data": {
      "text/html": [
       "<div>\n",
       "<table border=\"1\" class=\"dataframe\">\n",
       "  <thead>\n",
       "    <tr style=\"text-align: right;\">\n",
       "      <th></th>\n",
       "      <th>Q</th>\n",
       "      <th>GDP</th>\n",
       "    </tr>\n",
       "  </thead>\n",
       "  <tbody>\n",
       "    <tr>\n",
       "      <th>0</th>\n",
       "      <td>2000q1</td>\n",
       "      <td>12359.1</td>\n",
       "    </tr>\n",
       "    <tr>\n",
       "      <th>1</th>\n",
       "      <td>2000q2</td>\n",
       "      <td>12592.5</td>\n",
       "    </tr>\n",
       "    <tr>\n",
       "      <th>2</th>\n",
       "      <td>2000q3</td>\n",
       "      <td>12607.7</td>\n",
       "    </tr>\n",
       "    <tr>\n",
       "      <th>3</th>\n",
       "      <td>2000q4</td>\n",
       "      <td>12679.3</td>\n",
       "    </tr>\n",
       "    <tr>\n",
       "      <th>4</th>\n",
       "      <td>2001q1</td>\n",
       "      <td>12643.3</td>\n",
       "    </tr>\n",
       "  </tbody>\n",
       "</table>\n",
       "</div>"
      ],
      "text/plain": [
       "        Q      GDP\n",
       "0  2000q1  12359.1\n",
       "1  2000q2  12592.5\n",
       "2  2000q3  12607.7\n",
       "3  2000q4  12679.3\n",
       "4  2001q1  12643.3"
      ]
     },
     "execution_count": 6,
     "metadata": {},
     "output_type": "execute_result"
    }
   ],
   "source": [
    "GDP_df.head() # United States Quarterly GDP"
   ]
  },
  {
   "cell_type": "code",
   "execution_count": 7,
   "metadata": {
    "collapsed": false,
    "scrolled": true
   },
   "outputs": [
    {
     "data": {
      "text/html": [
       "<div>\n",
       "<table border=\"1\" class=\"dataframe\">\n",
       "  <thead>\n",
       "    <tr style=\"text-align: right;\">\n",
       "      <th></th>\n",
       "      <th></th>\n",
       "      <th>RegionID</th>\n",
       "      <th>Metro</th>\n",
       "      <th>CountyName</th>\n",
       "      <th>SizeRank</th>\n",
       "      <th>1996-04</th>\n",
       "      <th>1996-05</th>\n",
       "      <th>1996-06</th>\n",
       "      <th>1996-07</th>\n",
       "      <th>1996-08</th>\n",
       "      <th>1996-09</th>\n",
       "      <th>...</th>\n",
       "      <th>2015-11</th>\n",
       "      <th>2015-12</th>\n",
       "      <th>2016-01</th>\n",
       "      <th>2016-02</th>\n",
       "      <th>2016-03</th>\n",
       "      <th>2016-04</th>\n",
       "      <th>2016-05</th>\n",
       "      <th>2016-06</th>\n",
       "      <th>2016-07</th>\n",
       "      <th>2016-08</th>\n",
       "    </tr>\n",
       "    <tr>\n",
       "      <th>RegionName</th>\n",
       "      <th>State</th>\n",
       "      <th></th>\n",
       "      <th></th>\n",
       "      <th></th>\n",
       "      <th></th>\n",
       "      <th></th>\n",
       "      <th></th>\n",
       "      <th></th>\n",
       "      <th></th>\n",
       "      <th></th>\n",
       "      <th></th>\n",
       "      <th></th>\n",
       "      <th></th>\n",
       "      <th></th>\n",
       "      <th></th>\n",
       "      <th></th>\n",
       "      <th></th>\n",
       "      <th></th>\n",
       "      <th></th>\n",
       "      <th></th>\n",
       "      <th></th>\n",
       "      <th></th>\n",
       "    </tr>\n",
       "  </thead>\n",
       "  <tbody>\n",
       "    <tr>\n",
       "      <th>New York</th>\n",
       "      <th>New York</th>\n",
       "      <td>6181</td>\n",
       "      <td>New York</td>\n",
       "      <td>Queens</td>\n",
       "      <td>1</td>\n",
       "      <td>NaN</td>\n",
       "      <td>NaN</td>\n",
       "      <td>NaN</td>\n",
       "      <td>NaN</td>\n",
       "      <td>NaN</td>\n",
       "      <td>NaN</td>\n",
       "      <td>...</td>\n",
       "      <td>573600</td>\n",
       "      <td>576200</td>\n",
       "      <td>578400</td>\n",
       "      <td>582200</td>\n",
       "      <td>588000</td>\n",
       "      <td>592200</td>\n",
       "      <td>592500</td>\n",
       "      <td>590200</td>\n",
       "      <td>588000</td>\n",
       "      <td>586400</td>\n",
       "    </tr>\n",
       "    <tr>\n",
       "      <th>Los Angeles</th>\n",
       "      <th>California</th>\n",
       "      <td>12447</td>\n",
       "      <td>Los Angeles-Long Beach-Anaheim</td>\n",
       "      <td>Los Angeles</td>\n",
       "      <td>2</td>\n",
       "      <td>155000.0</td>\n",
       "      <td>154600.0</td>\n",
       "      <td>154400.0</td>\n",
       "      <td>154200.0</td>\n",
       "      <td>154100.0</td>\n",
       "      <td>154300.0</td>\n",
       "      <td>...</td>\n",
       "      <td>558200</td>\n",
       "      <td>560800</td>\n",
       "      <td>562800</td>\n",
       "      <td>565600</td>\n",
       "      <td>569700</td>\n",
       "      <td>574000</td>\n",
       "      <td>577800</td>\n",
       "      <td>580600</td>\n",
       "      <td>583000</td>\n",
       "      <td>585100</td>\n",
       "    </tr>\n",
       "    <tr>\n",
       "      <th>Chicago</th>\n",
       "      <th>Illinois</th>\n",
       "      <td>17426</td>\n",
       "      <td>Chicago</td>\n",
       "      <td>Cook</td>\n",
       "      <td>3</td>\n",
       "      <td>109700.0</td>\n",
       "      <td>109400.0</td>\n",
       "      <td>109300.0</td>\n",
       "      <td>109300.0</td>\n",
       "      <td>109100.0</td>\n",
       "      <td>109000.0</td>\n",
       "      <td>...</td>\n",
       "      <td>207800</td>\n",
       "      <td>206900</td>\n",
       "      <td>206200</td>\n",
       "      <td>205800</td>\n",
       "      <td>206200</td>\n",
       "      <td>207300</td>\n",
       "      <td>208200</td>\n",
       "      <td>209100</td>\n",
       "      <td>211000</td>\n",
       "      <td>213000</td>\n",
       "    </tr>\n",
       "    <tr>\n",
       "      <th>Philadelphia</th>\n",
       "      <th>Pennsylvania</th>\n",
       "      <td>13271</td>\n",
       "      <td>Philadelphia</td>\n",
       "      <td>Philadelphia</td>\n",
       "      <td>4</td>\n",
       "      <td>50000.0</td>\n",
       "      <td>49900.0</td>\n",
       "      <td>49600.0</td>\n",
       "      <td>49400.0</td>\n",
       "      <td>49400.0</td>\n",
       "      <td>49300.0</td>\n",
       "      <td>...</td>\n",
       "      <td>122300</td>\n",
       "      <td>121600</td>\n",
       "      <td>121800</td>\n",
       "      <td>123300</td>\n",
       "      <td>125200</td>\n",
       "      <td>126400</td>\n",
       "      <td>127000</td>\n",
       "      <td>127400</td>\n",
       "      <td>128300</td>\n",
       "      <td>129100</td>\n",
       "    </tr>\n",
       "    <tr>\n",
       "      <th>Phoenix</th>\n",
       "      <th>Arizona</th>\n",
       "      <td>40326</td>\n",
       "      <td>Phoenix</td>\n",
       "      <td>Maricopa</td>\n",
       "      <td>5</td>\n",
       "      <td>87200.0</td>\n",
       "      <td>87700.0</td>\n",
       "      <td>88200.0</td>\n",
       "      <td>88400.0</td>\n",
       "      <td>88500.0</td>\n",
       "      <td>88900.0</td>\n",
       "      <td>...</td>\n",
       "      <td>183800</td>\n",
       "      <td>185300</td>\n",
       "      <td>186600</td>\n",
       "      <td>188000</td>\n",
       "      <td>189100</td>\n",
       "      <td>190200</td>\n",
       "      <td>191300</td>\n",
       "      <td>192800</td>\n",
       "      <td>194500</td>\n",
       "      <td>195900</td>\n",
       "    </tr>\n",
       "  </tbody>\n",
       "</table>\n",
       "<p>5 rows × 249 columns</p>\n",
       "</div>"
      ],
      "text/plain": [
       "                           RegionID                           Metro  \\\n",
       "RegionName   State                                                    \n",
       "New York     New York          6181                        New York   \n",
       "Los Angeles  California       12447  Los Angeles-Long Beach-Anaheim   \n",
       "Chicago      Illinois         17426                         Chicago   \n",
       "Philadelphia Pennsylvania     13271                    Philadelphia   \n",
       "Phoenix      Arizona          40326                         Phoenix   \n",
       "\n",
       "                             CountyName  SizeRank   1996-04   1996-05  \\\n",
       "RegionName   State                                                      \n",
       "New York     New York            Queens         1       NaN       NaN   \n",
       "Los Angeles  California     Los Angeles         2  155000.0  154600.0   \n",
       "Chicago      Illinois              Cook         3  109700.0  109400.0   \n",
       "Philadelphia Pennsylvania  Philadelphia         4   50000.0   49900.0   \n",
       "Phoenix      Arizona           Maricopa         5   87200.0   87700.0   \n",
       "\n",
       "                            1996-06   1996-07   1996-08   1996-09   ...     \\\n",
       "RegionName   State                                                  ...      \n",
       "New York     New York           NaN       NaN       NaN       NaN   ...      \n",
       "Los Angeles  California    154400.0  154200.0  154100.0  154300.0   ...      \n",
       "Chicago      Illinois      109300.0  109300.0  109100.0  109000.0   ...      \n",
       "Philadelphia Pennsylvania   49600.0   49400.0   49400.0   49300.0   ...      \n",
       "Phoenix      Arizona        88200.0   88400.0   88500.0   88900.0   ...      \n",
       "\n",
       "                           2015-11  2015-12  2016-01  2016-02  2016-03  \\\n",
       "RegionName   State                                                       \n",
       "New York     New York       573600   576200   578400   582200   588000   \n",
       "Los Angeles  California     558200   560800   562800   565600   569700   \n",
       "Chicago      Illinois       207800   206900   206200   205800   206200   \n",
       "Philadelphia Pennsylvania   122300   121600   121800   123300   125200   \n",
       "Phoenix      Arizona        183800   185300   186600   188000   189100   \n",
       "\n",
       "                           2016-04  2016-05  2016-06  2016-07  2016-08  \n",
       "RegionName   State                                                      \n",
       "New York     New York       592200   592500   590200   588000   586400  \n",
       "Los Angeles  California     574000   577800   580600   583000   585100  \n",
       "Chicago      Illinois       207300   208200   209100   211000   213000  \n",
       "Philadelphia Pennsylvania   126400   127000   127400   128300   129100  \n",
       "Phoenix      Arizona        190200   191300   192800   194500   195900  \n",
       "\n",
       "[5 rows x 249 columns]"
      ]
     },
     "execution_count": 7,
     "metadata": {},
     "output_type": "execute_result"
    }
   ],
   "source": [
    "housing_df.head() # Our Zillow median home prices by month"
   ]
  },
  {
   "cell_type": "markdown",
   "metadata": {},
   "source": [
    "### II. Determining the Recession Timeline "
   ]
  },
  {
   "cell_type": "code",
   "execution_count": 8,
   "metadata": {
    "collapsed": false
   },
   "outputs": [
    {
     "data": {
      "text/plain": [
       "'2008q3'"
      ]
     },
     "execution_count": 8,
     "metadata": {},
     "output_type": "execute_result"
    }
   ],
   "source": [
    "# based on our definition, let's find the start of the recession\n",
    "\n",
    "GDPlist = GDP_df.GDP.tolist()\n",
    "index=0\n",
    "for i, val in enumerate(GDPlist):\n",
    "    if GDPlist[i+2] < GDPlist[i+1] < GDPlist[i]:\n",
    "        index = i+1\n",
    "        break\n",
    "GDP_df['Q'].iloc[index]"
   ]
  },
  {
   "cell_type": "code",
   "execution_count": 9,
   "metadata": {
    "collapsed": false
   },
   "outputs": [
    {
     "data": {
      "text/plain": [
       "'2009q4'"
      ]
     },
     "execution_count": 9,
     "metadata": {},
     "output_type": "execute_result"
    }
   ],
   "source": [
    "# that leads us to the recession end\n",
    "GDP_df['Q'].iloc[39]"
   ]
  },
  {
   "cell_type": "code",
   "execution_count": 10,
   "metadata": {
    "collapsed": false
   },
   "outputs": [
    {
     "data": {
      "text/plain": [
       "'2009q2'"
      ]
     },
     "execution_count": 10,
     "metadata": {},
     "output_type": "execute_result"
    }
   ],
   "source": [
    "# and our local min of the recession\n",
    "GDP_df['Q'].iloc[37]"
   ]
  },
  {
   "cell_type": "code",
   "execution_count": 28,
   "metadata": {
    "collapsed": false
   },
   "outputs": [
    {
     "data": {
      "image/png": "[encoded data removed]",
      "text/plain": [
       "<matplotlib.figure.Figure at 0x7f6c73c72e48>"
      ]
     },
     "metadata": {},
     "output_type": "display_data"
    }
   ],
   "source": [
    "# let's visually verify the points identified\n",
    "fig, ax = plt.subplots(figsize=(9,6))\n",
    "x = np.arange(len(GDP_df))\n",
    "x_names = list(GDP_df.Q.values)\n",
    "y = GDP_df['GDP']\n",
    "plt.plot(x,y)\n",
    "ax.set_xticks(np.arange(0,66,4))\n",
    "ax.set_xticklabels(np.arange(2000,2017))\n",
    "ax.set_xlim([0,66])\n",
    "\n",
    "\n",
    "plt.title('United States GDP since 2000')\n",
    "plt.ylabel('Billions of US Dollars')\n",
    "plt.tight_layout()\n",
    "\n",
    "ax.plot(34, GDP_df['GDP'].loc[34], 'ro', label=\"Recession Start\")\n",
    "ax.plot(37, GDP_df['GDP'].loc[37], 'ko', label=\"Recession Bottom\")\n",
    "ax.plot(39, GDP_df['GDP'].loc[39], 'go', label=\"Recession End\")\n",
    "ax.legend(loc='best')\n",
    "plt.show()"
   ]
  },
  {
   "cell_type": "markdown",
   "metadata": {},
   "source": [
    "### III. Converting Monthly Zillow Housing Price Data to Quarters"
   ]
  },
  {
   "cell_type": "code",
   "execution_count": 12,
   "metadata": {
    "collapsed": false
   },
   "outputs": [],
   "source": [
    "# grab the quarters column from GDP to eventually serve as column headers for our housing data\n",
    "q_hdrs = GDP_df.Q.tolist()\n",
    "q_hdrs.append('2016q3')\n",
    "\n",
    "# filter out the unwanted months\n",
    "cols = housing_df.columns[49:]\n",
    "trim_housing_df = housing_df.loc[:,cols]\n",
    "\n",
    "# resample columns for the quarterly mean\n",
    "cnvrtd_hdrs = pd.to_datetime(trim_housing_df.columns, format='%Y-%m-%d')\n",
    "trim_housing_df.columns = cnvrtd_hdrs\n",
    "trim_housing_df_T = trim_housing_df.T.resample('Q').mean()\n",
    "trim_housing_df = trim_housing_df_T.T\n",
    "\n",
    "# finally replace our Datetime headers with our quarterly strings in the style of our GDP file\n",
    "dt_hdrs = trim_housing_df.columns.tolist()\n",
    "new_hdrs = list(zip(dt_hdrs,q_hdrs))\n",
    "trim_housing_df.columns = pd.MultiIndex.from_tuples(new_hdrs)\n",
    "q_index = trim_housing_df.columns.droplevel(0)\n",
    "trim_housing_df.columns = q_index\n",
    "\n",
    "trim_housing_df = trim_housing_df.swaplevel()"
   ]
  },
  {
   "cell_type": "markdown",
   "metadata": {},
   "source": [
    "### IV. Performing Test of Significance of the Price Ratio for University and Non-University Towns"
   ]
  },
  {
   "cell_type": "code",
   "execution_count": 13,
   "metadata": {
    "collapsed": false
   },
   "outputs": [],
   "source": [
    "# make a copy of each\n",
    "df_housing = trim_housing_df.copy()\n",
    "df_towns = towns_df.copy()\n",
    "\n",
    "# calculate the price ratio as specified in the hypothesis\n",
    "df_housing['Price_Ratio'] = df_housing['2008q2']/df_housing['2009q2']\n"
   ]
  },
  {
   "cell_type": "code",
   "execution_count": 14,
   "metadata": {
    "collapsed": false
   },
   "outputs": [],
   "source": [
    "# merge DataFrames; the inner join will with df_towns ensures this DataFrame consists of only university towns\n",
    "univ_housing = pd.merge(df_towns, df_housing, how='inner', left_on=['State','RegionName'],right_index=True)\n",
    "univ_housing.set_index(['State','RegionName'],inplace=True)\n",
    "\n",
    "# create a DataFrame of housing prices in non-university towns\n",
    "non_univ_housing = df_housing[~df_housing.index.isin(univ_housing.index)]"
   ]
  },
  {
   "cell_type": "code",
   "execution_count": 120,
   "metadata": {
    "collapsed": false
   },
   "outputs": [
    {
     "data": {
      "text/plain": [
       "Ttest_indResult(statistic=-2.9980326641791835, pvalue=0.002724063704761164)"
      ]
     },
     "execution_count": 120,
     "metadata": {},
     "output_type": "execute_result"
    }
   ],
   "source": [
    "ttest_ind(univ_housing['Price_Ratio'].dropna().values, non_univ_housing['Price_Ratio'].dropna().values)\n"
   ]
  },
  {
   "cell_type": "markdown",
   "metadata": {
    "collapsed": true
   },
   "source": [
    "### V. Conclusion\n",
    "\n",
    "__With a p-value < 0.01, it looks like we do have a significant difference during the recession favoring university towns__."
   ]
  }
 ],
 "metadata": {
  "anaconda-cloud": {},
  "kernelspec": {
   "display_name": "Python [conda root]",
   "language": "python",
   "name": "conda-root-py"
  },
  "language_info": {
   "codemirror_mode": {
    "name": "ipython",
    "version": 3
   },
   "file_extension": ".py",
   "mimetype": "text/x-python",
   "name": "python",
   "nbconvert_exporter": "python",
   "pygments_lexer": "ipython3",
   "version": "3.5.2"
  }
 },
 "nbformat": 4,
 "nbformat_minor": 1
}
