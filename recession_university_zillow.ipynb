{
 "cells": [
  {
   "cell_type": "markdown",
   "metadata": {},
   "source": [
    "## Were University Towns Less Affected by the Great Recession?\n",
    "\n",
    "**Definitions**:\n",
    "* A _quarter_ is a specific three month period, Q1 is January through March, Q2 is April through June, Q3 is July through September, Q4 is October through December.\n",
    "* A _recession_ is defined as starting with two consecutive quarters of GDP decline, and ending with two consecutive quarters of GDP growth.\n",
    "* A _recession bottom_ is the quarter within a recession which had the lowest GDP.\n",
    "* A _university town_ is a city which has a high percentage of university students compared to the total population of the city.\n",
    "* _Chained GDP_ is adjusted to inflation, allowing us to compare accross time. \n",
    "\n",
    "\n",
    "**Hypothesis**: University towns have their mean housing prices less effected by recessions. I will run a t-test to compare the ratio of the mean price of houses in university towns the quarter before the recession starts compared to the recession bottom. (`price_ratio=quarter_before_recession/recession_bottom`)\n",
    "\n",
    "The three data source I will use for this analysis are:\n",
    "\n",
    "* From the [Zillow research data site](http://www.zillow.com/research/data/) there is housing data for the United States. In particular the datafile for [all homes at a city level](http://files.zillowstatic.com/research/public/City/City_Zhvi_AllHomes.csv), ```City_Zhvi_AllHomes.csv```, has median home sale prices at a fine grained level.\n",
    "* From the Wikipedia page on college towns is a list of [university towns in the United States](https://en.wikipedia.org/wiki/List_of_college_towns#College_towns_in_the_United_States) which has been copy and pasted into the file ```university_towns.txt```.\n",
    "* From Bureau of Economic Analysis, US Department of Commerce, the [GDP over time](http://www.bea.gov/national/index.htm#gdp) of the United States in current dollars (using the chained value in 2009 dollars), in quarterly intervals, in the file ```gdplev.xls```. I am only looking at GDP data from the first quarter of 2000 onward.\n",
    "\n",
    "\n",
    "_This exercise is adapted from University of Michigan's Introduction to Data Science in Python_.\n"
   ]
  },
  {
   "cell_type": "code",
   "execution_count": 32,
   "metadata": {
    "collapsed": true
   },
   "outputs": [],
   "source": [
    "%matplotlib inline\n",
    "\n",
    "import pandas as pd\n",
    "import numpy as np\n",
    "from scipy.stats import ttest_ind\n",
    "import matplotlib.pyplot as plt\n",
    "import seaborn as sns"
   ]
  },
  {
   "cell_type": "code",
   "execution_count": 3,
   "metadata": {
    "collapsed": true
   },
   "outputs": [],
   "source": [
    "# dictionary of states and their acronyms\n",
    "states = {'OH': 'Ohio', 'KY': 'Kentucky', 'AS': 'American Samoa', 'NV': 'Nevada', 'WY': 'Wyoming', 'NA': 'National', 'AL': 'Alabama', 'MD': 'Maryland', 'AK': 'Alaska', 'UT': 'Utah', 'OR': 'Oregon', 'MT': 'Montana', 'IL': 'Illinois', 'TN': 'Tennessee', 'DC': 'District of Columbia', 'VT': 'Vermont', 'ID': 'Idaho', 'AR': 'Arkansas', 'ME': 'Maine', 'WA': 'Washington', 'HI': 'Hawaii', 'WI': 'Wisconsin', 'MI': 'Michigan', 'IN': 'Indiana', 'NJ': 'New Jersey', 'AZ': 'Arizona', 'GU': 'Guam', 'MS': 'Mississippi', 'PR': 'Puerto Rico', 'NC': 'North Carolina', 'TX': 'Texas', 'SD': 'South Dakota', 'MP': 'Northern Mariana Islands', 'IA': 'Iowa', 'MO': 'Missouri', 'CT': 'Connecticut', 'WV': 'West Virginia', 'SC': 'South Carolina', 'LA': 'Louisiana', 'KS': 'Kansas', 'NY': 'New York', 'NE': 'Nebraska', 'OK': 'Oklahoma', 'FL': 'Florida', 'CA': 'California', 'CO': 'Colorado', 'PA': 'Pennsylvania', 'DE': 'Delaware', 'NM': 'New Mexico', 'RI': 'Rhode Island', 'MN': 'Minnesota', 'VI': 'Virgin Islands', 'NH': 'New Hampshire', 'MA': 'Massachusetts', 'GA': 'Georgia', 'ND': 'North Dakota', 'VA': 'Virginia'}"
   ]
  },
  {
   "cell_type": "code",
   "execution_count": 5,
   "metadata": {
    "collapsed": false
   },
   "outputs": [],
   "source": [
    "# load university towns list, GDP data, and Zillow housing data\n",
    "univ_towns = pd.read_table('data/university_towns.txt', header=None, comment='(')\n",
    "GDP_df = pd.read_excel('data/gdplev.xls',names=['Q','GDP'], parse_cols='E,G', skiprows=219)\n",
    "housing_df = pd.read_csv('data/City_Zhvi_AllHomes.csv')\n",
    "\n",
    "# rename column\n",
    "univ_towns.columns = ['State']\n",
    "\n",
    "# make a duplicate column and clean RegionName\n",
    "univ_towns['RegionName'] = univ_towns.State\n",
    "univ_towns['RegionName'] = univ_towns['RegionName'].str.rstrip()\n",
    "\n",
    "# filter out values in State column that are not states\n",
    "univ_towns['State'] = univ_towns['State'].where(univ_towns['State'].str.contains('\\[edit\\]'))\n",
    "\n",
    "# fill out the rest of our State column and clean them up\n",
    "univ_towns['State'].ffill(inplace=True)\n",
    "clean_states = univ_towns['State'].str.replace('\\[edit\\]', '')\n",
    "univ_towns['State'] = clean_states\n",
    "\n",
    "# make a new clean DataFrame with State and RegionName\n",
    "towns_df = univ_towns[~univ_towns.RegionName.str.contains('\\[edit\\]')]\n",
    "\n",
    "# clean our Zillow housing data by swapping state abbreviation with full name\n",
    "housing_df.State.replace(to_replace=states, inplace=True)\n",
    "housing_df.set_index(['RegionName', 'State'], inplace=True)\n"
   ]
  },
  {
   "cell_type": "code",
   "execution_count": 92,
   "metadata": {
    "collapsed": false
   },
   "outputs": [
    {
     "data": {
      "text/plain": [
       "'2008q3'"
      ]
     },
     "execution_count": 92,
     "metadata": {},
     "output_type": "execute_result"
    }
   ],
   "source": [
    "# based on our definition, let's find the start of the recession\n",
    "\n",
    "GDPlist = GDP_df.GDP.tolist()\n",
    "index=0\n",
    "for i, val in enumerate(GDPlist):\n",
    "    if GDPlist[i+2] < GDPlist[i+1] < GDPlist[i]:\n",
    "        index = i+1\n",
    "        break\n",
    "GDP_df['Q'].iloc[index]"
   ]
  },
  {
   "cell_type": "code",
   "execution_count": 7,
   "metadata": {
    "collapsed": false
   },
   "outputs": [
    {
     "data": {
      "text/plain": [
       "'2009q4'"
      ]
     },
     "execution_count": 7,
     "metadata": {},
     "output_type": "execute_result"
    }
   ],
   "source": [
    "# that leads us to the recession end\n",
    "recession_end = GDP_df['Q'].iloc[39]\n",
    "recession_end"
   ]
  },
  {
   "cell_type": "code",
   "execution_count": 24,
   "metadata": {
    "collapsed": false
   },
   "outputs": [
    {
     "data": {
      "text/plain": [
       "'2009q2'"
      ]
     },
     "execution_count": 24,
     "metadata": {},
     "output_type": "execute_result"
    }
   ],
   "source": [
    "# and our local min of the recession\n",
    "recession_bottom = GDP_df['Q'].iloc[37]\n",
    "recession_bottom\n"
   ]
  },
  {
   "cell_type": "code",
   "execution_count": 105,
   "metadata": {
    "collapsed": false
   },
   "outputs": [
    {
     "data": {
      "text/plain": [
       "<matplotlib.legend.Legend at 0x7f62666aa278>"
      ]
     },
     "execution_count": 105,
     "metadata": {},
     "output_type": "execute_result"
    },
    {
     "data": {
      "image/png": "[encoded data removed]",
      "text/plain": [
       "<matplotlib.figure.Figure at 0x7f62666c0630>"
      ]
     },
     "metadata": {},
     "output_type": "display_data"
    }
   ],
   "source": [
    "# let's visually verify the points identified\n",
    "fig, ax = plt.subplots(figsize=(9,6))\n",
    "x = np.arange(len(GDP_df))\n",
    "x_names = list(GDP_df.Q.values)\n",
    "y = GDP_df['GDP']\n",
    "plt.plot(x,y)\n",
    "ax.set_xticks(np.arange(0,66,4))\n",
    "ax.set_xticklabels(np.arange(2000,2017))\n",
    "ax.set_xlim([0,66])\n",
    "\n",
    "\n",
    "plt.title('United States GDP since 2000')\n",
    "plt.ylabel('Billions of US Dollars')\n",
    "plt.tight_layout()\n",
    "\n",
    "ax.plot(34, GDP_df['GDP'].loc[34], 'ro', label=\"Recession Start\")\n",
    "ax.plot(37, GDP_df['GDP'].loc[37], 'ko', label=\"Recession Bottom\")\n",
    "ax.plot(39, GDP_df['GDP'].loc[39], 'go', label=\"Recession End\")\n",
    "ax.legend(loc='best')"
   ]
  },
  {
   "cell_type": "code",
   "execution_count": 109,
   "metadata": {
    "collapsed": false
   },
   "outputs": [],
   "source": [
    "# grab the quarters column from GDP to eventually serve as column headers for our housing data\n",
    "q_hdrs = GDP_df.Q.tolist()\n",
    "q_hdrs.append('2016q3')\n",
    "\n",
    "# filter out the unwanted months\n",
    "cols = housing_df.columns[49:]\n",
    "trim_housing_df = housing_df.loc[:,cols]\n",
    "\n",
    "# resample columns for the quarterly mean\n",
    "cnvrtd_hdrs = pd.to_datetime(trim_housing_df.columns, format='%Y-%m-%d')\n",
    "trim_housing_df.columns = cnvrtd_hdrs\n",
    "trim_housing_df_T = trim_housing_df.T.resample('Q').mean()\n",
    "trim_housing_df = trim_housing_df_T.T\n",
    "\n",
    "# finally replace our Datetime headers with our quarterly strings in the style of our GDP file\n",
    "dt_hdrs = trim_housing_df.columns.tolist()\n",
    "new_hdrs = list(zip(dt_hdrs,q_hdrs))\n",
    "trim_housing_df.columns = pd.MultiIndex.from_tuples(new_hdrs)\n",
    "q_index = trim_housing_df.columns.droplevel(0)\n",
    "trim_housing_df.columns = q_index\n",
    "\n",
    "trim_housing_df = trim_housing_df.swaplevel()"
   ]
  },
  {
   "cell_type": "code",
   "execution_count": 110,
   "metadata": {
    "collapsed": false
   },
   "outputs": [],
   "source": [
    "# make a copy of each\n",
    "df_housing = trim_housing_df.copy()\n",
    "df_towns = towns_df.copy()\n",
    "\n",
    "# calculate the price ratio as specified in the hypothesis\n",
    "df_housing['Price_Ratio'] = df_housing['2008q2']/df_housing['2009q2']\n"
   ]
  },
  {
   "cell_type": "code",
   "execution_count": 119,
   "metadata": {
    "collapsed": false
   },
   "outputs": [
    {
     "data": {
      "text/plain": [
       "((269, 68), (10461, 68))"
      ]
     },
     "execution_count": 119,
     "metadata": {},
     "output_type": "execute_result"
    }
   ],
   "source": [
    "# merge DataFrames; the inner join will with df_towns ensures this DataFrame consists of only university towns\n",
    "univ_housing = pd.merge(df_towns, df_housing, how='inner', left_on=['State','RegionName'],right_index=True)\n",
    "univ_housing.set_index(['State','RegionName'],inplace=True)\n",
    "\n",
    "# create a DataFrame of housing prices in non-university towns\n",
    "non_univ_housing = df_housing[~df_housing.index.isin(univ_housing.index)]\n",
    "\n",
    "univ_housing.shape, non_univ_housing.shape "
   ]
  },
  {
   "cell_type": "code",
   "execution_count": 120,
   "metadata": {
    "collapsed": false
   },
   "outputs": [
    {
     "data": {
      "text/plain": [
       "Ttest_indResult(statistic=-2.9980326641791835, pvalue=0.002724063704761164)"
      ]
     },
     "execution_count": 120,
     "metadata": {},
     "output_type": "execute_result"
    }
   ],
   "source": [
    "ttest_ind(univ_housing['Price_Ratio'].dropna().values, non_univ_housing['Price_Ratio'].dropna().values)\n"
   ]
  },
  {
   "cell_type": "markdown",
   "metadata": {
    "collapsed": true
   },
   "source": [
    "__With a p-value < 0.01, it looks like we do have a significant difference with the recession favoriing university towns__."
   ]
  },
  {
   "cell_type": "code",
   "execution_count": null,
   "metadata": {
    "collapsed": true
   },
   "outputs": [],
   "source": []
  }
 ],
 "metadata": {
  "anaconda-cloud": {},
  "kernelspec": {
   "display_name": "Python [conda root]",
   "language": "python",
   "name": "conda-root-py"
  },
  "language_info": {
   "codemirror_mode": {
    "name": "ipython",
    "version": 3
   },
   "file_extension": ".py",
   "mimetype": "text/x-python",
   "name": "python",
   "nbconvert_exporter": "python",
   "pygments_lexer": "ipython3",
   "version": "3.5.2"
  }
 },
 "nbformat": 4,
 "nbformat_minor": 1
}
